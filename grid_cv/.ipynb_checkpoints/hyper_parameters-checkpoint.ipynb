{
 "cells": [
  {
   "cell_type": "code",
   "execution_count": 1,
   "id": "8984ff56-a713-41fc-bc47-199a1c3b8eac",
   "metadata": {},
   "outputs": [],
   "source": [
    "import pandas as pd\n",
    "import numpy as np"
   ]
  },
  {
   "cell_type": "markdown",
   "id": "dee0c961-b0d8-46dd-8abb-e99746ccff7b",
   "metadata": {},
   "source": [
    "### import dataset"
   ]
  },
  {
   "cell_type": "code",
   "execution_count": 21,
   "id": "4ba80b05-5ed1-4b5d-a503-dcbbf8738dc2",
   "metadata": {},
   "outputs": [],
   "source": [
    "from sklearn.datasets import load_digits\n",
    "digits = load_digits()"
   ]
  },
  {
   "cell_type": "markdown",
   "id": "c12b4cf6-184b-47b8-b55e-2eb5fa009c31",
   "metadata": {},
   "source": [
    "### import models "
   ]
  },
  {
   "cell_type": "code",
   "execution_count": 3,
   "id": "7784f300-ec72-4f09-82ad-9b218cc4579c",
   "metadata": {},
   "outputs": [],
   "source": [
    "from sklearn.linear_model import LogisticRegression\n",
    "from sklearn.ensemble import RandomForestClassifier\n",
    "from sklearn import svm\n",
    "from sklearn.naive_bayes import GaussianNB\n",
    "from sklearn.naive_bayes import MultinomialNB\n",
    "from sklearn.tree import DecisionTreeClassifier"
   ]
  },
  {
   "cell_type": "code",
   "execution_count": 33,
   "id": "49ba6c2f-86fb-44d1-a9d5-27427a001cca",
   "metadata": {},
   "outputs": [],
   "source": [
    "model_par = {\n",
    "    'svm':{\n",
    "        'model': svm.SVC(),\n",
    "        'params': {\n",
    "            'C':[1,5,10,15,20],\n",
    "            'kernel':['rbf','linear'],\n",
    "            'degree':[1,3,5]\n",
    "       }\n",
    "    },\n",
    "    'logistic_regression':{\n",
    "        'model': LogisticRegression(max_iter=1000),\n",
    "        'params': {\n",
    "            'C':[1,5,10],\n",
    "            'solver':['liblinear','lbfgs']\n",
    "        }\n",
    "    },\n",
    "    'randome_forest':{\n",
    "       'model': RandomForestClassifier(),\n",
    "       'params':{\n",
    "           'n_estimators':[1,5,10]\n",
    "       }\n",
    "    },\n",
    "    'gaussianNB':{\n",
    "       'model': GaussianNB(),\n",
    "       'params':{}\n",
    "    },\n",
    "    'multinomialNB':{\n",
    "        'model':MultinomialNB(),\n",
    "        'params':{}\n",
    "   },\n",
    "    'decision_tree_classifier':{\n",
    "        'model':DecisionTreeClassifier(),\n",
    "        'params':{\n",
    "            'criterion':['gini','entropy'],\n",
    "        }\n",
    "    }\n",
    "}"
   ]
  },
  {
   "cell_type": "code",
   "execution_count": 34,
   "id": "0a7a4261-112e-436d-870f-708903d1467b",
   "metadata": {},
   "outputs": [],
   "source": [
    "from sklearn.model_selection import GridSearchCV"
   ]
  },
  {
   "cell_type": "code",
   "execution_count": 35,
   "id": "6d31c51a-fe95-4f67-90eb-69e0590509f5",
   "metadata": {},
   "outputs": [],
   "source": [
    "score = []\n",
    "for model_name,mp in model_par.items():\n",
    "    clf = GridSearchCV(mp['model'],mp['params'],cv=10,return_train_score=False)\n",
    "    clf.fit(digits.data,digits.target)\n",
    "    score.append({\n",
    "    'model':model_name,\n",
    "    'best_score':clf.best_score_,\n",
    "    'best_params':clf.best_params_\n",
    "    })"
   ]
  },
  {
   "cell_type": "code",
   "execution_count": 38,
   "id": "1b91bb63-c1b7-44ef-a479-0b3c69e0a782",
   "metadata": {},
   "outputs": [
    {
     "data": {
      "text/plain": [
       "[{'model': 'svm',\n",
       "  'best_score': np.float64(0.9821818746120423),\n",
       "  'best_params': {'C': 5, 'degree': 1, 'kernel': 'rbf'}},\n",
       " {'model': 'logistic_regression',\n",
       "  'best_score': np.float64(0.9293078833022967),\n",
       "  'best_params': {'C': 10, 'solver': 'lbfgs'}},\n",
       " {'model': 'randome_forest',\n",
       "  'best_score': np.float64(0.9137337057728118),\n",
       "  'best_params': {'n_estimators': 10}},\n",
       " {'model': 'gaussianNB',\n",
       "  'best_score': np.float64(0.8113904407200497),\n",
       "  'best_params': {}},\n",
       " {'model': 'multinomialNB',\n",
       "  'best_score': np.float64(0.8797858472998138),\n",
       "  'best_params': {}},\n",
       " {'model': 'decision_tree_classifier',\n",
       "  'best_score': np.float64(0.8313811297330851),\n",
       "  'best_params': {'criterion': 'gini'}}]"
      ]
     },
     "execution_count": 38,
     "metadata": {},
     "output_type": "execute_result"
    }
   ],
   "source": [
    "score"
   ]
  },
  {
   "cell_type": "code",
   "execution_count": 37,
   "id": "ac2833e9-2420-40a0-adb1-f680e2bd5cd7",
   "metadata": {},
   "outputs": [
    {
     "data": {
      "text/html": [
       "<div>\n",
       "<style scoped>\n",
       "    .dataframe tbody tr th:only-of-type {\n",
       "        vertical-align: middle;\n",
       "    }\n",
       "\n",
       "    .dataframe tbody tr th {\n",
       "        vertical-align: top;\n",
       "    }\n",
       "\n",
       "    .dataframe thead th {\n",
       "        text-align: right;\n",
       "    }\n",
       "</style>\n",
       "<table border=\"1\" class=\"dataframe\">\n",
       "  <thead>\n",
       "    <tr style=\"text-align: right;\">\n",
       "      <th></th>\n",
       "      <th>model</th>\n",
       "      <th>best_score</th>\n",
       "      <th>best_params</th>\n",
       "    </tr>\n",
       "  </thead>\n",
       "  <tbody>\n",
       "    <tr>\n",
       "      <th>0</th>\n",
       "      <td>svm</td>\n",
       "      <td>0.982182</td>\n",
       "      <td>{'C': 5, 'degree': 1, 'kernel': 'rbf'}</td>\n",
       "    </tr>\n",
       "    <tr>\n",
       "      <th>1</th>\n",
       "      <td>logistic_regression</td>\n",
       "      <td>0.929308</td>\n",
       "      <td>{'C': 10, 'solver': 'lbfgs'}</td>\n",
       "    </tr>\n",
       "    <tr>\n",
       "      <th>2</th>\n",
       "      <td>randome_forest</td>\n",
       "      <td>0.913734</td>\n",
       "      <td>{'n_estimators': 10}</td>\n",
       "    </tr>\n",
       "    <tr>\n",
       "      <th>3</th>\n",
       "      <td>gaussianNB</td>\n",
       "      <td>0.811390</td>\n",
       "      <td>{}</td>\n",
       "    </tr>\n",
       "    <tr>\n",
       "      <th>4</th>\n",
       "      <td>multinomialNB</td>\n",
       "      <td>0.879786</td>\n",
       "      <td>{}</td>\n",
       "    </tr>\n",
       "    <tr>\n",
       "      <th>5</th>\n",
       "      <td>decision_tree_classifier</td>\n",
       "      <td>0.831381</td>\n",
       "      <td>{'criterion': 'gini'}</td>\n",
       "    </tr>\n",
       "  </tbody>\n",
       "</table>\n",
       "</div>"
      ],
      "text/plain": [
       "                      model  best_score  \\\n",
       "0                       svm    0.982182   \n",
       "1       logistic_regression    0.929308   \n",
       "2            randome_forest    0.913734   \n",
       "3                gaussianNB    0.811390   \n",
       "4             multinomialNB    0.879786   \n",
       "5  decision_tree_classifier    0.831381   \n",
       "\n",
       "                              best_params  \n",
       "0  {'C': 5, 'degree': 1, 'kernel': 'rbf'}  \n",
       "1            {'C': 10, 'solver': 'lbfgs'}  \n",
       "2                    {'n_estimators': 10}  \n",
       "3                                      {}  \n",
       "4                                      {}  \n",
       "5                   {'criterion': 'gini'}  "
      ]
     },
     "execution_count": 37,
     "metadata": {},
     "output_type": "execute_result"
    }
   ],
   "source": [
    "df = pd.DataFrame(score,columns=['model','best_score','best_params'])\n",
    "df.head"
   ]
  },
  {
   "cell_type": "code",
   "execution_count": null,
   "id": "854975f5-8fc5-4549-a43d-58aa15e52859",
   "metadata": {},
   "outputs": [],
   "source": []
  },
  {
   "cell_type": "code",
   "execution_count": null,
   "id": "c4a56123-e86c-48a4-8ed7-620cc9293fe4",
   "metadata": {},
   "outputs": [],
   "source": []
  }
 ],
 "metadata": {
  "kernelspec": {
   "display_name": "Python 3 (ipykernel)",
   "language": "python",
   "name": "python3"
  },
  "language_info": {
   "codemirror_mode": {
    "name": "ipython",
    "version": 3
   },
   "file_extension": ".py",
   "mimetype": "text/x-python",
   "name": "python",
   "nbconvert_exporter": "python",
   "pygments_lexer": "ipython3",
   "version": "3.12.6"
  }
 },
 "nbformat": 4,
 "nbformat_minor": 5
}
